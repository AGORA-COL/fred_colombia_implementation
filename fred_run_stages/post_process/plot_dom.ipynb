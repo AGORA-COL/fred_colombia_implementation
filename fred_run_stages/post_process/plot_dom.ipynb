{
 "cells": [
  {
   "cell_type": "code",
   "execution_count": 1,
   "id": "f988ce02-60b1-4f6e-8675-232ca572678c",
   "metadata": {},
   "outputs": [],
   "source": [
    "import pandas as pd\n",
    "import numpy as np\n",
    "import matplotlib.pyplot as plt"
   ]
  },
  {
   "cell_type": "code",
   "execution_count": 2,
   "id": "05570623-181b-4ffb-a9ad-add721a2e7a2",
   "metadata": {},
   "outputs": [],
   "source": [
    "mu_ = [0.723, 0.725, 0.721, 0.72, 0.72, 0.715, 0.7, 0.666, 0.612, 0.556, 0.493, 0.420, 0.33, 0.225, 0.1, 0.0315, 0.022]\n",
    "eta_ = [0.53, 0.54, 0.55,  0.555, 0.56, 0.57, 0.6, 0.65,0.7,0.75,0.8,0.85,0.9,0.95,0.99,0.999,0.9995]"
   ]
  },
  {
   "cell_type": "code",
   "execution_count": 15,
   "id": "b9a71f31-c0af-4706-85b9-7c994f627c3f",
   "metadata": {},
   "outputs": [
    {
     "data": {
      "text/plain": [
       "(0.7, 0.75)"
      ]
     },
     "execution_count": 15,
     "metadata": {},
     "output_type": "execute_result"
    },
    {
     "data": {
      "image/png": "[encoded data removed]",
      "text/plain": [
       "<Figure size 432x288 with 1 Axes>"
      ]
     },
     "metadata": {
      "needs_background": "light"
     },
     "output_type": "display_data"
    }
   ],
   "source": [
    "plt.scatter(eta_, mu_)\n",
    "plt.plot(eta_, mu_)\n",
    "plt.ylabel('mu')\n",
    "plt.xlabel('eta')\n",
    "#plt.yscale('log')\n",
    "\n",
    "plt.xlim(0.51, 0.6)\n",
    "plt.ylim(0.7, 0.75)"
   ]
  },
  {
   "cell_type": "code",
   "execution_count": 4,
   "id": "720ec929-b029-4355-95aa-69dc4c621eb3",
   "metadata": {},
   "outputs": [],
   "source": [
    "df_dom = pd.read_csv('input_files/Bogota_Covid_Variants_Dominance.csv')\n",
    "df_dom['date'] = pd.to_datetime(df_dom['date'])"
   ]
  },
  {
   "cell_type": "code",
   "execution_count": 5,
   "id": "dc9e16a5-e007-4bac-ab36-239341d37b0b",
   "metadata": {},
   "outputs": [
    {
     "data": {
      "text/html": [
       "<div>\n",
       "<style scoped>\n",
       "    .dataframe tbody tr th:only-of-type {\n",
       "        vertical-align: middle;\n",
       "    }\n",
       "\n",
       "    .dataframe tbody tr th {\n",
       "        vertical-align: top;\n",
       "    }\n",
       "\n",
       "    .dataframe thead th {\n",
       "        text-align: right;\n",
       "    }\n",
       "</style>\n",
       "<table border=\"1\" class=\"dataframe\">\n",
       "  <thead>\n",
       "    <tr style=\"text-align: right;\">\n",
       "      <th></th>\n",
       "      <th>date</th>\n",
       "      <th>week</th>\n",
       "      <th>Alpha</th>\n",
       "      <th>Gamma</th>\n",
       "      <th>Kappa</th>\n",
       "      <th>Lambda</th>\n",
       "      <th>Others</th>\n",
       "    </tr>\n",
       "  </thead>\n",
       "  <tbody>\n",
       "    <tr>\n",
       "      <th>0</th>\n",
       "      <td>2021-04-08</td>\n",
       "      <td>14</td>\n",
       "      <td>0.12</td>\n",
       "      <td>0.28</td>\n",
       "      <td>0.36</td>\n",
       "      <td>0.04</td>\n",
       "      <td>0.20</td>\n",
       "    </tr>\n",
       "    <tr>\n",
       "      <th>1</th>\n",
       "      <td>2021-04-15</td>\n",
       "      <td>15</td>\n",
       "      <td>0.20</td>\n",
       "      <td>0.12</td>\n",
       "      <td>0.36</td>\n",
       "      <td>0.04</td>\n",
       "      <td>0.28</td>\n",
       "    </tr>\n",
       "    <tr>\n",
       "      <th>2</th>\n",
       "      <td>2021-05-13</td>\n",
       "      <td>19</td>\n",
       "      <td>0.00</td>\n",
       "      <td>0.33</td>\n",
       "      <td>0.50</td>\n",
       "      <td>0.00</td>\n",
       "      <td>0.27</td>\n",
       "    </tr>\n",
       "    <tr>\n",
       "      <th>3</th>\n",
       "      <td>2021-05-20</td>\n",
       "      <td>20</td>\n",
       "      <td>0.00</td>\n",
       "      <td>0.40</td>\n",
       "      <td>0.40</td>\n",
       "      <td>0.20</td>\n",
       "      <td>0.00</td>\n",
       "    </tr>\n",
       "    <tr>\n",
       "      <th>4</th>\n",
       "      <td>2021-05-27</td>\n",
       "      <td>21</td>\n",
       "      <td>0.00</td>\n",
       "      <td>0.60</td>\n",
       "      <td>0.40</td>\n",
       "      <td>0.00</td>\n",
       "      <td>0.00</td>\n",
       "    </tr>\n",
       "    <tr>\n",
       "      <th>5</th>\n",
       "      <td>2021-06-03</td>\n",
       "      <td>22</td>\n",
       "      <td>0.00</td>\n",
       "      <td>0.20</td>\n",
       "      <td>0.80</td>\n",
       "      <td>0.00</td>\n",
       "      <td>0.00</td>\n",
       "    </tr>\n",
       "    <tr>\n",
       "      <th>6</th>\n",
       "      <td>2021-06-10</td>\n",
       "      <td>23</td>\n",
       "      <td>0.00</td>\n",
       "      <td>0.00</td>\n",
       "      <td>1.00</td>\n",
       "      <td>0.00</td>\n",
       "      <td>0.00</td>\n",
       "    </tr>\n",
       "    <tr>\n",
       "      <th>7</th>\n",
       "      <td>2021-06-17</td>\n",
       "      <td>24</td>\n",
       "      <td>0.00</td>\n",
       "      <td>0.10</td>\n",
       "      <td>0.90</td>\n",
       "      <td>0.00</td>\n",
       "      <td>0.00</td>\n",
       "    </tr>\n",
       "    <tr>\n",
       "      <th>8</th>\n",
       "      <td>2021-06-24</td>\n",
       "      <td>25</td>\n",
       "      <td>0.00</td>\n",
       "      <td>0.10</td>\n",
       "      <td>0.90</td>\n",
       "      <td>0.00</td>\n",
       "      <td>0.00</td>\n",
       "    </tr>\n",
       "  </tbody>\n",
       "</table>\n",
       "</div>"
      ],
      "text/plain": [
       "        date  week  Alpha  Gamma  Kappa  Lambda  Others\n",
       "0 2021-04-08    14   0.12   0.28   0.36    0.04    0.20\n",
       "1 2021-04-15    15   0.20   0.12   0.36    0.04    0.28\n",
       "2 2021-05-13    19   0.00   0.33   0.50    0.00    0.27\n",
       "3 2021-05-20    20   0.00   0.40   0.40    0.20    0.00\n",
       "4 2021-05-27    21   0.00   0.60   0.40    0.00    0.00\n",
       "5 2021-06-03    22   0.00   0.20   0.80    0.00    0.00\n",
       "6 2021-06-10    23   0.00   0.00   1.00    0.00    0.00\n",
       "7 2021-06-17    24   0.00   0.10   0.90    0.00    0.00\n",
       "8 2021-06-24    25   0.00   0.10   0.90    0.00    0.00"
      ]
     },
     "execution_count": 5,
     "metadata": {},
     "output_type": "execute_result"
    }
   ],
   "source": [
    "df_dom"
   ]
  },
  {
   "cell_type": "code",
   "execution_count": 9,
   "id": "5cb4f43a-829e-455e-828e-be1629d6981a",
   "metadata": {},
   "outputs": [
    {
     "data": {
      "text/plain": [
       "<matplotlib.collections.PathCollection at 0x7efd4d55dfd0>"
      ]
     },
     "execution_count": 9,
     "metadata": {},
     "output_type": "execute_result"
    },
    {
     "data": {
      "image/png": "[encoded data removed]",
      "text/plain": [
       "<Figure size 432x288 with 1 Axes>"
      ]
     },
     "metadata": {
      "needs_background": "light"
     },
     "output_type": "display_data"
    }
   ],
   "source": [
    "plt.scatter(df_dom.date, df_dom.Alpha)\n",
    "plt.scatter(df_dom.date, df_dom.Gamma)\n",
    "plt.scatter(df_dom.date, df_dom.Kappa)"
   ]
  },
  {
   "cell_type": "code",
   "execution_count": 10,
   "id": "4f181c44-922c-43c2-a4e5-fcafecdc5d30",
   "metadata": {},
   "outputs": [
    {
     "data": {
      "text/plain": [
       "1.0"
      ]
     },
     "execution_count": 10,
     "metadata": {},
     "output_type": "execute_result"
    }
   ],
   "source": [
    "0.12+0.28+0.36+0.04+0.20"
   ]
  }
 ],
 "metadata": {
  "kernelspec": {
   "display_name": "Python 3 (ipykernel)",
   "language": "python",
   "name": "python3"
  },
  "language_info": {
   "codemirror_mode": {
    "name": "ipython",
    "version": 3
   },
   "file_extension": ".py",
   "mimetype": "text/x-python",
   "name": "python",
   "nbconvert_exporter": "python",
   "pygments_lexer": "ipython3",
   "version": "3.9.12"
  }
 },
 "nbformat": 4,
 "nbformat_minor": 5
}
