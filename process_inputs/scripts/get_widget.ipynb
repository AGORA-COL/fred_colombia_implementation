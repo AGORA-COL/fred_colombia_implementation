{
 "cells": [
  {
   "cell_type": "code",
   "execution_count": null,
   "metadata": {},
   "outputs": [],
   "source": [
    "import os\n",
    "import pandas as pd\n",
    "from bokeh.plotting import figure, ColumnDataSource\n",
    "from bokeh.models import Select, CustomJS\n",
    "from bokeh.layouts import column\n",
    "from bokeh.io import output_file, show\n",
    "from bokeh.palettes import Category10"
   ]
  },
  {
   "cell_type": "code",
   "execution_count": 64,
   "metadata": {},
   "outputs": [],
   "source": [
    "input_folder = '../../fred_input_files/dominance_data'\n",
    "dataframes = {}\n",
    "\n",
    "# Define the columns you expect in your DataFrame\n",
    "expected_columns = ['date', 'week', 'Alpha', 'Gamma', 'Mu', 'Omicron', 'OmicronBAX']\n",
    "\n",
    "for file in os.listdir(input_folder):\n",
    "    if file.endswith(\".csv\"):  # Make sure to process only CSV files\n",
    "        file_path = os.path.join(input_folder, file)\n",
    "        df_dom = pd.read_csv(file_path)\n",
    "        \n",
    "        # Convert the 'date' column to datetime\n",
    "        df_dom['date'] = pd.to_datetime(df_dom['date'])\n",
    "\n",
    "        # Reindex the DataFrame to have the expected columns, filling with 0 if they don't exist\n",
    "        df_dom = df_dom.reindex(columns=expected_columns, fill_value=0)\n",
    "\n",
    "        # Store the DataFrame in the dictionary\n",
    "        dataframes[file] = df_dom\n"
   ]
  },
  {
   "cell_type": "code",
   "execution_count": 67,
   "metadata": {},
   "outputs": [],
   "source": [
    "# Convert DataFrames to ColumnDataSource, which can be used in Bokeh\n",
    "sources = {name: ColumnDataSource(df) for name, df in dataframes.items()}\n",
    "\n",
    "# Initial ColumnDataSource\n",
    "initial_source = sources[os.listdir(input_folder)[0]]\n",
    "\n",
    "# Create the figure with datetime x-axis\n",
    "p = figure(x_axis_type='datetime', title=\"Dominance Data Over Time\", width=800, height=400)\n",
    "\n",
    "# Assuming 'date' is the name of your datetime column\n",
    "date_column = 'date'\n",
    "\n",
    "# List of columns to plot\n",
    "columns_to_plot = ['Alpha', 'Gamma', 'Mu', 'Omicron', 'OmicronBAX']\n",
    "\n",
    "# Check if we have enough colors, otherwise cycle the palette\n",
    "if len(columns_to_plot) > len(Category10):\n",
    "    colors = Category10 * (len(columns_to_plot) // len(Category10) + 1)\n",
    "else:\n",
    "    colors = Category10[10][:len(columns_to_plot)]\n",
    "\n",
    "# Plot line and scatter for each column with a unique color\n",
    "for i, column_name in enumerate(columns_to_plot):\n",
    "    color = colors[i]\n",
    "    p.line(x=date_column, y=column_name, source=initial_source, line_width=2, color=color, alpha=0.8, legend_label=column_name)\n",
    "    p.scatter(x=date_column, y=column_name, source=initial_source, size=8, color=color, legend_label=column_name)\n",
    "\n",
    "\n",
    "# Add legend customization here if needed\n",
    "p.legend.location = \"top_left\"\n",
    "p.legend.click_policy = \"hide\"\n",
    "\n",
    "\n",
    "# Select widget with JavaScript callback\n",
    "select = Select(title=\"Choose dataset:\", value=os.listdir(input_folder)[0], options=list(sources.keys()))\n",
    "select.js_on_change('value', CustomJS(args=dict(sources=sources, plot=p), code=\"\"\"\n",
    "    const selected = cb_obj.value;\n",
    "    const new_source = sources[selected];\n",
    "    plot.renderers[0].data_source.data = new_source.data;\n",
    "    plot.renderers[0].data_source.change.emit();\n",
    "\"\"\"))\n",
    "\n",
    "# Layout\n",
    "layout = column(select, p)\n",
    "\n",
    "# Output to HTML\n",
    "output_file('../output_files/timeseries_plot.html')\n",
    "show(layout)"
   ]
  }
 ],
 "metadata": {
  "kernelspec": {
   "display_name": "base",
   "language": "python",
   "name": "python3"
  },
  "language_info": {
   "codemirror_mode": {
    "name": "ipython",
    "version": 3
   },
   "file_extension": ".py",
   "mimetype": "text/x-python",
   "name": "python",
   "nbconvert_exporter": "python",
   "pygments_lexer": "ipython3",
   "version": "3.10.12"
  }
 },
 "nbformat": 4,
 "nbformat_minor": 2
}
