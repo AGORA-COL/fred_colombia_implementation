{
 "cells": [
  {
   "cell_type": "code",
   "execution_count": 6,
   "metadata": {},
   "outputs": [],
   "source": [
    "import numpy as np\n",
    "import pandas as pd\n",
    "import matplotlib.pyplot as plt"
   ]
  },
  {
   "cell_type": "code",
   "execution_count": 7,
   "metadata": {},
   "outputs": [],
   "source": [
    "## folders\n",
    "input_files_folder = '../../../fred_input_files'\n",
    "\n",
    "## Parameters\n",
    "alpha = 0.05"
   ]
  },
  {
   "cell_type": "code",
   "execution_count": 8,
   "metadata": {},
   "outputs": [],
   "source": [
    "data_folder             = '../data'\n",
    "geo_colombia_info_file  = 'geoinfo_municipios_colombia.csv'"
   ]
  },
  {
   "cell_type": "code",
   "execution_count": 9,
   "metadata": {},
   "outputs": [],
   "source": [
    "df_mun_info = pd.read_csv(f'{data_folder}/{geo_colombia_info_file}')[['COD_DEPTO','NOM_DEPART']].drop_duplicates()"
   ]
  },
  {
   "cell_type": "code",
   "execution_count": 10,
   "metadata": {},
   "outputs": [],
   "source": [
    "## Load known info\n",
    "# Load and preprocess data\n",
    "df_contacts_11 = pd.read_csv(f'{input_files_folder}/contacts/community_survey_11001.csv')\n",
    "df_contacts_11_ = df_contacts_11.copy()\n",
    "df_contacts_11['Date'] = pd.to_datetime(df_contacts_11['Date'])\n",
    "df_contacts_11 = df_contacts_11[['Date', 'Contacts_total']]\n",
    "\n",
    "df_mobility_11 = pd.read_csv(f'{input_files_folder}/mobility_trends/11_mobility_trends.csv')\n",
    "df_mobility_11['date'] = pd.to_datetime(df_mobility_11['date'])\n",
    "df_mobility_11['mobility_trend'] = 1 + df_mobility_11['mobility_trend'].ewm(alpha=alpha).mean()\n",
    "\n",
    "df_combined_11 = pd.merge(df_contacts_11, df_mobility_11, left_on='Date', right_on='date', how='inner')\n",
    "\n",
    "# Drop rows with NaN values created by lagging\n",
    "df_combined_11.dropna(inplace=True)"
   ]
  },
  {
   "cell_type": "code",
   "execution_count": 11,
   "metadata": {},
   "outputs": [],
   "source": [
    "depart_list = df_mun_info.COD_DEPTO.unique()"
   ]
  },
  {
   "cell_type": "code",
   "execution_count": 12,
   "metadata": {},
   "outputs": [],
   "source": [
    "for dept in [11]:\n",
    "    if dept == 999:\n",
    "        continue\n",
    "\n",
    "    # Load mobility data for another population (e.g., population 8)\n",
    "    df_mobility_8 = pd.read_csv(f'{input_files_folder}/mobility_trends/{dept}_mobility_trends.csv')\n",
    "    df_mobility_8['date'] = pd.to_datetime(df_mobility_8['date'])\n",
    "    df_mobility_8['mobility_trend'] = 1 + df_mobility_8['mobility_trend'].ewm(alpha=alpha).mean()\n",
    "\n",
    "    df_combined_88 = pd.merge(df_contacts_11, df_mobility_8, left_on='Date', right_on='date', how='inner')\n",
    "\n",
    "    # Drop rows with NaN values created by lagging\n",
    "    df_combined_88.dropna(inplace=True)\n",
    "\n",
    "    a1 = (df_combined_11['mobility_trend'].ewm(alpha=alpha).mean())\n",
    "    a2 = (df_combined_88['mobility_trend'].ewm(alpha=alpha).mean())\n",
    "\n",
    "    frac = a2 / a1\n",
    "    contact_estimation = frac * df_combined_11['Contacts_total'].to_numpy()\n",
    "\n",
    "    df_ = pd.DataFrame({'Date':df_contacts_11_.Date,\n",
    "                        'day':df_contacts_11_.day,\n",
    "                        'Contacts_total':contact_estimation})\n",
    "\n",
    "    df_['Contacts_Prop'] = df_.Contacts_total / df_.iloc[0].Contacts_total\n",
    "\n",
    "    #df_.to_csv(f'{input_files_folder}/contacts/{dept}_contacts.csv', index=False)\n",
    "    #df_.to_csv(f'../output_files/{dept}_contacts.csv', index=False)"
   ]
  },
  {
   "cell_type": "code",
   "execution_count": 13,
   "metadata": {},
   "outputs": [],
   "source": [
    "import pandas as pd\n",
    "from statsmodels.tsa.statespace.sarimax import SARIMAX\n",
    "from datetime import datetime"
   ]
  },
  {
   "cell_type": "code",
   "execution_count": 14,
   "metadata": {},
   "outputs": [],
   "source": [
    "# Convert 'Date' columns to datetime format\n",
    "df_['Date'] = pd.to_datetime(df_['Date'])\n",
    "df_mobility_11['date'] = pd.to_datetime(df_mobility_11['date'])\n",
    "\n",
    "# Merge on Date\n",
    "df_combined = pd.merge(df_, df_mobility_11, left_on='Date', right_on='date', how='inner')"
   ]
  },
  {
   "cell_type": "code",
   "execution_count": 53,
   "metadata": {},
   "outputs": [],
   "source": [
    "# Assuming you are predicting 'Contacts_total' using 'mobility_trend' as exogenous data\n",
    "y = df_combined['Contacts_total']\n",
    "X = df_combined['mobility_trend']\n",
    "\n",
    "# Split into train and test sets\n",
    "train_size = int(len(df_combined) * 0.95)\n",
    "y_train, y_test = y[0:train_size], y[train_size:]\n",
    "X_train, X_test = X[0:train_size].values.reshape(-1,1), X[train_size:].values.reshape(-1,1)"
   ]
  },
  {
   "cell_type": "code",
   "execution_count": 54,
   "metadata": {},
   "outputs": [
    {
     "name": "stdout",
     "output_type": "stream",
     "text": [
      "Performing stepwise search to minimize aic\n"
     ]
    },
    {
     "name": "stdout",
     "output_type": "stream",
     "text": [
      " ARIMA(2,1,2)(1,0,1)[6] intercept   : AIC=-2373.264, Time=0.92 sec\n",
      " ARIMA(0,1,0)(0,0,0)[6] intercept   : AIC=-933.005, Time=0.06 sec\n",
      " ARIMA(1,1,0)(1,0,0)[6] intercept   : AIC=inf, Time=0.34 sec\n",
      " ARIMA(0,1,1)(0,0,1)[6] intercept   : AIC=inf, Time=0.53 sec\n",
      " ARIMA(0,1,0)(0,0,0)[6]             : AIC=-923.971, Time=0.02 sec\n",
      " ARIMA(2,1,2)(0,0,1)[6] intercept   : AIC=-2359.055, Time=0.65 sec\n",
      " ARIMA(2,1,2)(1,0,0)[6] intercept   : AIC=-2376.900, Time=1.04 sec\n",
      " ARIMA(2,1,2)(0,0,0)[6] intercept   : AIC=-2361.051, Time=0.61 sec\n",
      " ARIMA(2,1,2)(2,0,0)[6] intercept   : AIC=-2278.956, Time=1.47 sec\n",
      " ARIMA(2,1,2)(2,0,1)[6] intercept   : AIC=-2276.154, Time=0.82 sec\n",
      " ARIMA(1,1,2)(1,0,0)[6] intercept   : AIC=-1620.406, Time=0.54 sec\n",
      " ARIMA(2,1,1)(1,0,0)[6] intercept   : AIC=-2341.897, Time=0.64 sec\n",
      " ARIMA(3,1,2)(1,0,0)[6] intercept   : AIC=-2413.181, Time=0.45 sec\n",
      " ARIMA(3,1,2)(0,0,0)[6] intercept   : AIC=-2487.565, Time=0.21 sec\n",
      " ARIMA(3,1,2)(0,0,1)[6] intercept   : AIC=-2485.613, Time=0.80 sec\n",
      " ARIMA(3,1,2)(1,0,1)[6] intercept   : AIC=-2408.259, Time=1.29 sec\n",
      " ARIMA(3,1,1)(0,0,0)[6] intercept   : AIC=-2136.463, Time=0.33 sec\n",
      " ARIMA(4,1,2)(0,0,0)[6] intercept   : AIC=-2486.313, Time=0.31 sec\n",
      " ARIMA(3,1,3)(0,0,0)[6] intercept   : AIC=-2486.086, Time=0.62 sec\n",
      " ARIMA(2,1,1)(0,0,0)[6] intercept   : AIC=-2380.747, Time=0.45 sec\n",
      " ARIMA(2,1,3)(0,0,0)[6] intercept   : AIC=-2233.196, Time=0.55 sec\n",
      " ARIMA(4,1,1)(0,0,0)[6] intercept   : AIC=-2045.450, Time=0.74 sec\n",
      " ARIMA(4,1,3)(0,0,0)[6] intercept   : AIC=-2484.537, Time=0.64 sec\n",
      " ARIMA(3,1,2)(0,0,0)[6]             : AIC=-2487.076, Time=0.40 sec\n",
      "\n",
      "Best model:  ARIMA(3,1,2)(0,0,0)[6] intercept\n",
      "Total fit time: 14.453 seconds\n",
      "                               SARIMAX Results                                \n",
      "==============================================================================\n",
      "Dep. Variable:                      y   No. Observations:                  148\n",
      "Model:               SARIMAX(3, 1, 2)   Log Likelihood                1250.783\n",
      "Date:                Tue, 27 Feb 2024   AIC                          -2487.565\n",
      "Time:                        05:40:55   BIC                          -2466.632\n",
      "Sample:                             0   HQIC                         -2479.060\n",
      "                                - 148                                         \n",
      "Covariance Type:                  opg                                         \n",
      "==============================================================================\n",
      "                 coef    std err          z      P>|z|      [0.025      0.975]\n",
      "------------------------------------------------------------------------------\n",
      "intercept   6.052e-06   7.34e-06      0.825      0.409   -8.33e-06    2.04e-05\n",
      "ar.L1          2.7923      0.000   1.42e+04      0.000       2.792       2.793\n",
      "ar.L2         -2.6095      0.000  -1.28e+04      0.000      -2.610      -2.609\n",
      "ar.L3          0.8146      0.000   3902.310      0.000       0.814       0.815\n",
      "ma.L1          0.5008   1.44e-07   3.48e+06      0.000       0.501       0.501\n",
      "ma.L2          0.0105   1.81e-09   5.81e+06      0.000       0.011       0.011\n",
      "sigma2      2.075e-09   9.86e-11     21.035      0.000    1.88e-09    2.27e-09\n",
      "===================================================================================\n",
      "Ljung-Box (L1) (Q):                   0.01   Jarque-Bera (JB):              4079.27\n",
      "Prob(Q):                              0.91   Prob(JB):                         0.00\n",
      "Heteroskedasticity (H):               7.74   Skew:                            -0.55\n",
      "Prob(H) (two-sided):                  0.00   Kurtosis:                        28.78\n",
      "===================================================================================\n",
      "\n",
      "Warnings:\n",
      "[1] Covariance matrix calculated using the outer product of gradients (complex-step).\n",
      "[2] Covariance matrix is singular or near-singular, with condition number 9.46e+26. Standard errors may be unstable.\n"
     ]
    }
   ],
   "source": [
    "import numpy as np\n",
    "import pandas as pd\n",
    "import pmdarima as pm\n",
    "from statsmodels.tsa.statespace.sarimax import SARIMAX\n",
    "\n",
    "# Assuming your DataFrame and target/exogenous variables are defined as before\n",
    "\n",
    "# Using auto_arima to find the best ARIMA model parameters based on AIC\n",
    "# We enable seasonal detection this time\n",
    "auto_arima_model = pm.auto_arima(y_train, exogenous=X_train,\n",
    "                                 seasonal=True,  # Enable seasonal detection\n",
    "                                 m=6,  # This is the seasonal period; adjust according to your data (e.g., 12 for monthly data)\n",
    "                                 trace=True, error_action='ignore', suppress_warnings=True,\n",
    "                                 stepwise=True)\n",
    "\n",
    "# Print the summary of the best model found\n",
    "print(auto_arima_model.summary())\n",
    "\n",
    "# The best model's non-seasonal parameters\n",
    "p, d, q = auto_arima_model.order\n",
    "\n",
    "# The best model's seasonal parameters\n",
    "P, D, Q, m = auto_arima_model.seasonal_order"
   ]
  },
  {
   "cell_type": "code",
   "execution_count": 55,
   "metadata": {},
   "outputs": [
    {
     "name": "stdout",
     "output_type": "stream",
     "text": [
      "RUNNING THE L-BFGS-B CODE\n",
      "\n",
      "           * * *\n",
      "\n",
      "Machine precision = 2.220D-16\n",
      " N =            7     M =           10\n",
      "\n",
      "At X0         0 variables are exactly at the bounds\n",
      "\n",
      "At iterate    0    f= -3.81384D+00    |proj g|=  4.29624D+00\n",
      "\n",
      "At iterate    5    f= -3.81460D+00    |proj g|=  9.20738D+00\n",
      "\n",
      "At iterate   10    f= -3.91276D+00    |proj g|=  2.36463D+02\n",
      "\n",
      "At iterate   15    f= -4.51451D+00    |proj g|=  3.58681D+00\n",
      "\n",
      "At iterate   20    f= -4.71440D+00    |proj g|=  8.34013D+00\n",
      "\n",
      "At iterate   25    f= -5.03843D+00    |proj g|=  6.54379D+02\n"
     ]
    },
    {
     "name": "stderr",
     "output_type": "stream",
     "text": [
      " This problem is unconstrained.\n"
     ]
    },
    {
     "name": "stdout",
     "output_type": "stream",
     "text": [
      "\n",
      "At iterate   30    f= -6.12662D+00    |proj g|=  7.09363D+01\n",
      "\n",
      "At iterate   35    f= -7.08508D+00    |proj g|=  7.22712D+01\n",
      "\n",
      "At iterate   40    f= -7.27025D+00    |proj g|=  3.13461D+02\n",
      "\n",
      "           * * *\n",
      "\n",
      "Tit   = total number of iterations\n",
      "Tnf   = total number of function evaluations\n",
      "Tnint = total number of segments explored during Cauchy searches\n",
      "Skip  = number of BFGS updates skipped\n",
      "Nact  = number of active bounds at final generalized Cauchy point\n",
      "Projg = norm of the final projected gradient\n",
      "F     = final function value\n",
      "\n",
      "           * * *\n",
      "\n",
      "   N    Tit     Tnf  Tnint  Skip  Nact     Projg        F\n",
      "    7     45    119      2     0     0   1.164D+02  -7.273D+00\n",
      "  F =  -7.2732528091450259     \n",
      "\n",
      "ABNORMAL_TERMINATION_IN_LNSRCH                              \n",
      "                               SARIMAX Results                                \n",
      "==============================================================================\n",
      "Dep. Variable:         Contacts_total   No. Observations:                  148\n",
      "Model:               SARIMAX(3, 1, 2)   Log Likelihood                1076.441\n",
      "Date:                Tue, 27 Feb 2024   AIC                          -2138.883\n",
      "Time:                        05:40:56   BIC                          -2118.094\n",
      "Sample:                             0   HQIC                         -2130.435\n",
      "                                - 148                                         \n",
      "Covariance Type:                  opg                                         \n",
      "==============================================================================\n",
      "                 coef    std err          z      P>|z|      [0.025      0.975]\n",
      "------------------------------------------------------------------------------\n",
      "x1             0.0010      0.001      0.874      0.382      -0.001       0.003\n",
      "ar.L1          1.3726      0.004    310.075      0.000       1.364       1.381\n",
      "ar.L2          0.2095      0.000    461.151      0.000       0.209       0.210\n",
      "ar.L3         -0.6035      0.004   -138.600      0.000      -0.612      -0.595\n",
      "ma.L1          0.3730   3.38e-07    1.1e+06      0.000       0.373       0.373\n",
      "ma.L2          0.0317      0.000    233.616      0.000       0.031       0.032\n",
      "sigma2      1.777e-08   2.31e-09      7.687      0.000    1.32e-08    2.23e-08\n",
      "===================================================================================\n",
      "Ljung-Box (L1) (Q):                 116.80   Jarque-Bera (JB):                35.99\n",
      "Prob(Q):                              0.00   Prob(JB):                         0.00\n",
      "Heteroskedasticity (H):               3.65   Skew:                            -1.07\n",
      "Prob(H) (two-sided):                  0.00   Kurtosis:                         4.19\n",
      "===================================================================================\n",
      "\n",
      "Warnings:\n",
      "[1] Covariance matrix calculated using the outer product of gradients (complex-step).\n",
      "[2] Covariance matrix is singular or near-singular, with condition number 5.63e+23. Standard errors may be unstable.\n"
     ]
    },
    {
     "name": "stderr",
     "output_type": "stream",
     "text": [
      "\n",
      " Bad direction in the line search;\n",
      "   refresh the lbfgs memory and restart the iteration.\n",
      "/zine/HPC02S1/ex-dveloza/mambaforge/envs/sktime/lib/python3.10/site-packages/statsmodels/base/model.py:607: ConvergenceWarning: Maximum Likelihood optimization failed to converge. Check mle_retvals\n",
      "  warnings.warn(\"Maximum Likelihood optimization failed to \"\n",
      "\n",
      " Line search cannot locate an adequate point after MAXLS\n",
      "  function and gradient evaluations.\n",
      "  Previous x, f and g restored.\n",
      " Possible causes: 1 error in function or gradient evaluation;\n",
      "                  2 rounding error dominate computation.\n"
     ]
    }
   ],
   "source": [
    "# Define the ARIMAX model with the parameters found from auto_arima\n",
    "arimax_model = SARIMAX(y_train,\n",
    "                       exog=X_train,\n",
    "                       order=(p, d, q),  # Parameters from auto_arima\n",
    "                       seasonal_order=(P, D, Q, m),  # Adjust if your data is seasonal\n",
    "                       enforce_stationarity=False,\n",
    "                       enforce_invertibility=False)\n",
    "\n",
    "# Fit the ARIMAX model\n",
    "arimax_results = arimax_model.fit()\n",
    "\n",
    "# Summary of the model\n",
    "print(arimax_results.summary())\n",
    "\n",
    "# Predictions\n",
    "predictions = arimax_results.forecast(steps=len(y_test), exog=X_test)"
   ]
  },
  {
   "cell_type": "code",
   "execution_count": 56,
   "metadata": {},
   "outputs": [
    {
     "name": "stdout",
     "output_type": "stream",
     "text": [
      "MAE: 0.006995722981497643\n",
      "MSE: 8.075694829273627e-05\n"
     ]
    }
   ],
   "source": [
    "from sklearn.metrics import mean_absolute_error, mean_squared_error\n",
    "\n",
    "mae = mean_absolute_error(y_test, predictions)\n",
    "mse = mean_squared_error(y_test, predictions)\n",
    "\n",
    "print(f\"MAE: {mae}\")\n",
    "print(f\"MSE: {mse}\")\n"
   ]
  },
  {
   "cell_type": "code",
   "execution_count": 59,
   "metadata": {},
   "outputs": [
    {
     "data": {
      "image/png": "[encoded data removed]",
      "text/plain": [
       "<Figure size 1000x600 with 1 Axes>"
      ]
     },
     "metadata": {},
     "output_type": "display_data"
    }
   ],
   "source": [
    "import matplotlib.pyplot as plt\n",
    "\n",
    "plt.figure(figsize=(10,6))\n",
    "plt.plot(y_test.index, y_test, label='Actual')\n",
    "plt.plot(y_test.index, predictions, color='red', label='Predicted')\n",
    "plt.legend()\n",
    "plt.show()\n"
   ]
  },
  {
   "cell_type": "code",
   "execution_count": null,
   "metadata": {},
   "outputs": [],
   "source": []
  }
 ],
 "metadata": {
  "kernelspec": {
   "display_name": "base",
   "language": "python",
   "name": "python3"
  },
  "language_info": {
   "codemirror_mode": {
    "name": "ipython",
    "version": 3
   },
   "file_extension": ".py",
   "mimetype": "text/x-python",
   "name": "python",
   "nbconvert_exporter": "python",
   "pygments_lexer": "ipython3",
   "version": "3.10.0"
  }
 },
 "nbformat": 4,
 "nbformat_minor": 2
}
